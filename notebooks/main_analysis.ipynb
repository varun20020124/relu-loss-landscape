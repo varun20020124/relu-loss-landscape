{
 "cells": [
  {
   "cell_type": "code",
   "execution_count": null,
   "id": "57ccc87f",
   "metadata": {},
   "outputs": [],
   "source": [
    "import os, sys\n",
    "# Make sure imports like `from experiments…` and `from data…` work\n",
    "sys.path.insert(0, os.getcwd())"
   ]
  },
  {
   "cell_type": "code",
   "execution_count": null,
   "id": "0b876709",
   "metadata": {},
   "outputs": [],
   "source": []
  }
 ],
 "metadata": {
  "language_info": {
   "name": "python"
  }
 },
 "nbformat": 4,
 "nbformat_minor": 5
}
